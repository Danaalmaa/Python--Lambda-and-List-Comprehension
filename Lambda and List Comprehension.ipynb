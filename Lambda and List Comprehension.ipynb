{
 "cells": [
  {
   "cell_type": "code",
   "execution_count": 4,
   "id": "aad18c65-3ad6-495b-947a-1798911a315e",
   "metadata": {},
   "outputs": [
    {
     "name": "stdout",
     "output_type": "stream",
     "text": [
      "2022-11-02 17:50:40.970509\n",
      "2022\n",
      "11\n",
      "2\n"
     ]
    }
   ],
   "source": [
    "import datetime\n",
    "now = datetime.datetime.now()\n",
    "print(now)\n",
    "year = lambda x: x.year\n",
    "month = lambda x: x.month\n",
    "day = lambda x: x.day\n",
    "\n",
    "print(year(now))\n",
    "print(month(now))\n",
    "print(day(now))\n"
   ]
  },
  {
   "cell_type": "code",
   "execution_count": 14,
   "id": "2a5413df-9658-492b-89b3-14615b047701",
   "metadata": {},
   "outputs": [
    {
     "name": "stdout",
     "output_type": "stream",
     "text": [
      "['Distributed', 'Proofreaders,', 'Transcriber', '[Illustration:', 'Construction]', '[Illustration:', 'Association', 'Brickmaking', 'Foundations', 'Construction', 'Construction', 'Construction', 'Suggestions', 'Bricklaying', 'Illustrations', 'Association', '[Illustration:', 'Fundamentals', 'Nebuchadnezzar,', 'Considerable', 'Mesopotamian', 'Netherlands,', '[Illustration:', 'Taskmasters.', 'Egyptians_]', '[Illustration:', '[Illustration:', 'Philadelphia', '[Illustration:', 'Structurally,', 'Artistically', '[Illustration:', '[Illustration:', 'Batchelder,', '[Illustration:', 'Maintenance', 'Depreciation', 'Approximately', '[Illustration:', 'Architects]', 'Furthermore,', '[Illustration:', '[Illustration:', 'Coatsville,', 'Architects]', 'Sentimental', 'Differences', '[Illustration:', 'Birmingham,', 'Depreciation', '[Illustration:', 'Architects]', '[Illustration:', 'International', 'Fortunately', '[Illustration:', '[Illustration:', 'Occasionally', 'Cleanliness,', '[Illustration:', '[Illustration:', '[Illustration:', 'Scaffolding]', 'Waterproofing]', '[Illustration:', '[Illustration:', '[Illustration:', '[Illustration:', '[Illustration:', '[Illustration:', '[Illustration:', '[Illustration:', '[Illustration:', 'Dimensions_', '[Illustration:', '[Illustration:', '[Illustration:', '[Illustration:', '[Illustration:', '[Illustration:', '_Lights[A]_', '[Illustration:', '[Illustration:', 'Construction]', '[Illustration:', '[Illustration:', 'Advantages]', 'Furthermore,', 'Construction]', '[Illustration:', 'Construction]', '[Illustration:', 'Investments]', '[Illustration:', 'Construction]', '[Illustration:', 'Perspective', 'Construction]', '[Illustration:', '[Illustration:', 'Immediately', '[Illustration:', '[Illustration:', '[Illustration:', '[Illustration:', '[Illustration:', '[Illustration:', '[Illustration:', '[Illustration:', 'Foundations', '[Illustration:', '[Illustration:', '[Illustration:', '[Illustration:', '[Illustration:', '[Illustration:', '[Illustration:', '[Illustration:', '[Illustration:', '[Illustration:', 'Checkerboard', '[Illustration:', '[Illustration:', 'Herringbone', 'Importance]', '[Illustration:', 'Quantities]', 'Underwriters', 'Carelessness', 'Underwriters,', 'Percentage_', '[Illustration]', '[Illustration:', 'Specifications]', '[Illustration:', 'Agriculture', '[Illustration]', '[Illustration:', '[Illustration:', 'Association,', '[Illustration:', '[Illustration:', 'Association,', '[Illustration:', '[Illustration:', 'Association,', '[Illustration:', '[Illustration:', 'Association,', '[Illustration:', '[Illustration:', 'Association,', '[Illustration:', '[Illustration:', 'Association,', '[Illustration:', '[Illustration:', 'Association,', '[Illustration:', '[Illustration:', 'Association,', '[Illustration:', '[Illustration:', 'Association,', '[Illustration:', '[Illustration:', 'Association,', '[Illustration:', '[Illustration:', 'Association,', '[Illustration:', '[Illustration:', 'Association,', '[Illustration:', '[Illustration:', 'Association,', '[Illustration:', '[Illustration:', 'Association,', '[Illustration:', '[Illustration:', 'Association,', '[Illustration:', '[Illustration:', 'Association,', '[Illustration:', '[Illustration:', 'Association,', '[Illustration:', '[Illustration:', 'Association,', '[Illustration:', '[Illustration:', 'Association,', '[Illustration:', '[Illustration:', 'Association,', '[Illustration:', '[Illustration:', 'Association,', '[Illustration:', '[Illustration:', 'Association,', '[Illustration:', '[Illustration:', 'Association,', '[Illustration:', '[Illustration:', 'Association,', '[Illustration:', '[Illustration:', 'Association,', '[Illustration:', '[Illustration:', 'Association,', '[Illustration:', '[Illustration:', 'Association,', '[Illustration:', '[Illustration:', 'Association,', '[Illustration:', '[Illustration:', 'Association,', '[Illustration:', '[Illustration:', 'Association,', '[Illustration:', '[Illustration:', 'Association,', '_Cement-Lime', 'Association', '[Illustration:', 'Percentages', '[Illustration:', 'Coefficients', '_Dimensions', '_Coefficient_', 'Waterproofing', '_Bench-Mark._', '_Centering._', '_Efflorescence._', 'Whitewashing.', 'Brickwork._', '_Pointing._', '_Skewback._', '_Stretcher._', '_Template._', '(Gilbreth).', '_Toothing._', 'Whitewashing,', 'Efflorescence.', 'Association', 'Architectural', 'Brickmaking,', 'Coefficients', 'Comparative', 'Depreciation,', 'Efflorescence', 'Estimating,', 'Construction,', 'Construction', 'Fireplaces,', 'Construction,', 'Fundamentals', 'Herringbone', 'Maintenance', 'Mesopotamian', 'Underwriters', 'Nebuchadnezzar', 'Investments', 'Percentages,', 'Specifications,', 'Protection,', 'Reinforcing,', 'Salamanders,', 'Scaffolding', 'Sentimental', 'Construction', 'Specifications', 'Architectural', 'Coefficients', 'Comparative', 'Percentages', 'Maintenance', 'Waterproofing', 'Frontispiece', \"Carpenters'\", 'Philadelphia', 'Coatsville,', 'Birmingham,', 'Brickmaking', 'Construction', 'Perspective', 'Checkerboard', 'Herringbone', 'Association=', 'Sec.-Treas.', '[Illustration]', '=_Directors_=', 'Pittsburgh,', 'Hydraulic-Press', 'Manufacturing', 'Crawfordsville', 'Crawfordsville,', 'Jewettville', 'Pittsburgh,', '[Illustration]', '=_Members._=', 'Stephenson,', 'Manufacturing', 'Hydraulic-Press', 'Edwardsville', 'Hydraulic-Press', 'Martinsville', 'Indianapolis', 'Crawfordsville', 'Crawfordsville', 'Huntingburg', 'Huntingburg', 'Hydraulic-Press', 'Indianapolis', 'Crawfordsville', 'Crawfordsville', 'Manufacturing', 'Coffeyville', 'Coffeyville', 'Hydraulic-Press', 'Minneapolis', 'Hydraulic-Press', 'Hydraulic-Press', 'Jewettville', 'Statesville', 'Statesville', 'Nelsonville', 'Hydraulic-Press', 'Hydraulic-Press', 'Straitsville', 'Straitsville', 'Chillicothe', 'Hydraulic-Press', 'Hydraulic-Press', 'Philadelphia', 'Corporation', 'Pittsburgh-Callery', 'Williamsport', 'Williamsgrove', 'Yingling-Martin', 'Elgin-Butler', 'Elgin-Standard', 'Hydraulic-Press', 'Transcriber', 'Redistribution', 'Gutenberg\"),', 'Redistributing', 'Foundation\"', 'Foundation.', '\"Information', 'Foundation.\"', 'Foundation,', 'Replacement', 'Foundation,', 'Foundation,', 'Foundation,', 'Information', 'Information', 'Mississippi', 'Contributions', 'Information', 'International', 'Information', 'Foundation,']\n"
     ]
    }
   ],
   "source": [
    "file_name= 'pg7.txt'\n",
    "with open(file_name,encoding='utf8') as myfile:\n",
    " contents =myfile.read()\n",
    "words = contents.split()\n",
    "list = [x for x in words if len(x) > 10 and x.istitle() ]\n",
    "print (list)"
   ]
  },
  {
   "cell_type": "code",
   "execution_count": null,
   "id": "ac954d68-e205-42f4-b19a-7363b4784d20",
   "metadata": {},
   "outputs": [],
   "source": []
  }
 ],
 "metadata": {
  "kernelspec": {
   "display_name": "Python 3 (ipykernel)",
   "language": "python",
   "name": "python3"
  },
  "language_info": {
   "codemirror_mode": {
    "name": "ipython",
    "version": 3
   },
   "file_extension": ".py",
   "mimetype": "text/x-python",
   "name": "python",
   "nbconvert_exporter": "python",
   "pygments_lexer": "ipython3",
   "version": "3.10.6"
  }
 },
 "nbformat": 4,
 "nbformat_minor": 5
}
